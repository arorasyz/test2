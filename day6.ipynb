{
 "cells": [
  {
   "cell_type": "markdown",
   "metadata": {},
   "source": [
    "### File Handling in Python\n",
    "- File:- Document containing information resides on the permanent storage\n",
    "- Different types of files:- text,doc,pdf,csv etc\n",
    "- input- keyboard\n",
    "- output - file\n",
    "\n",
    "### Modes of the File I/O\n",
    "\n",
    "* 'w'- this mode is used\n",
    "     * -- If the file is not present first it creates the file and write some data into it\n",
    "     * -- If the file is already present then it will re write the previous content"
   ]
  },
  {
   "cell_type": "code",
   "execution_count": 3,
   "metadata": {},
   "outputs": [
    {
     "name": "stdout",
     "output_type": "stream",
     "text": [
      "File is created and data has written\n"
     ]
    }
   ],
   "source": [
    "# create n write to the file\n",
    "def createfile(fname):\n",
    "    f=open(fname,'w')\n",
    "    for i in range(10):\n",
    "        f.write(\"This is %d line\\n\"%i)\n",
    "    print(\"File is created and data has written\")\n",
    "    return\n",
    "createfile(\"File1.txt\")"
   ]
  },
  {
   "cell_type": "code",
   "execution_count": 5,
   "metadata": {},
   "outputs": [
    {
     "name": "stdout",
     "output_type": "stream",
     "text": [
      " Volume in drive C has no label.\n",
      " Volume Serial Number is 5AF6-DF1D\n",
      "\n",
      " Directory of C:\\Users\\ece - 3\\Desktop\\vikas python\n",
      "\n",
      "07/11/2019  09:35 AM    <DIR>          .\n",
      "07/11/2019  09:35 AM    <DIR>          ..\n",
      "07/11/2019  09:28 AM    <DIR>          .ipynb_checkpoints\n",
      "07/10/2019  03:25 PM             8,071 assignment.ipynb\n",
      "07/05/2019  03:51 PM             8,094 day1.ipynb\n",
      "07/06/2019  11:00 AM             6,490 day2.ipynb\n",
      "07/08/2019  03:46 PM             6,380 day3.ipynb\n",
      "07/09/2019  04:52 PM             9,004 day4.ipynb\n",
      "07/10/2019  03:43 PM            11,763 day5.ipynb\n",
      "07/11/2019  09:34 AM             1,735 day6.ipynb\n",
      "07/11/2019  09:35 AM               160 File1.txt\n",
      "               8 File(s)         51,697 bytes\n",
      "               3 Dir(s)  71,485,005,824 bytes free\n"
     ]
    }
   ],
   "source": [
    "ls"
   ]
  },
  {
   "cell_type": "code",
   "execution_count": 11,
   "metadata": {},
   "outputs": [
    {
     "name": "stdout",
     "output_type": "stream",
     "text": [
      "File created and successfully data written\n"
     ]
    }
   ],
   "source": [
    "def appendfile(filename):\n",
    "    f=open(filename,'a')\n",
    "    for i in range (10):\n",
    "        f.write(\"This is %d line\\n\"%i)\n",
    "    print(\"File created and successfully data written\")\n",
    "    return\n",
    "appendfile(\"file2.txt\")"
   ]
  },
  {
   "cell_type": "code",
   "execution_count": null,
   "metadata": {},
   "outputs": [],
   "source": []
  },
  {
   "cell_type": "code",
   "execution_count": 13,
   "metadata": {},
   "outputs": [
    {
     "name": "stdout",
     "output_type": "stream",
     "text": [
      "File created and successfully data written\n"
     ]
    }
   ],
   "source": [
    "def appendfile(filename):\n",
    "    f=open(filename,'a')\n",
    "    for i in range (3):\n",
    "        f.write(\"This is %d new line\\n\"%i)\n",
    "    print(\"File created and successfully data written\")\n",
    "    return\n",
    "appendfile(\"file2.txt\")\n"
   ]
  },
  {
   "cell_type": "code",
   "execution_count": 16,
   "metadata": {},
   "outputs": [
    {
     "name": "stdout",
     "output_type": "stream",
     "text": [
      "This is 0 line\n",
      "This is 1 line\n",
      "This is 2 line\n",
      "This is 3 line\n",
      "This is 4 line\n",
      "This is 5 line\n",
      "This is 6 line\n",
      "This is 7 line\n",
      "This is 8 line\n",
      "This is 9 line\n",
      "This is 0 new line\n",
      "This is 1 new line\n",
      "This is 2 new line\n",
      "This is 0 new line\n",
      "This is 1 new line\n",
      "This is 2 new line\n",
      "\n"
     ]
    }
   ],
   "source": [
    "# Read the file\n",
    "def readfile(filename):\n",
    "    f=open(filename,'r')\n",
    "    if f.mode=='r':\n",
    "        x=f.read()\n",
    "        print(x)\n",
    "    f.close()\n",
    "    return\n",
    "readfile('file2.txt')"
   ]
  },
  {
   "cell_type": "code",
   "execution_count": 3,
   "metadata": {
    "scrolled": false
   },
   "outputs": [
    {
     "name": "stdout",
     "output_type": "stream",
     "text": [
      "Enter the file name: file2.txt\n",
      "Enter the wordThis\n"
     ]
    },
    {
     "data": {
      "text/plain": [
       "16"
      ]
     },
     "execution_count": 3,
     "metadata": {},
     "output_type": "execute_result"
    }
   ],
   "source": [
    "# Data Analysis\n",
    "# Word count program\n",
    "def wordcount(filename,word):\n",
    "    with open(filename,'r') as f:\n",
    "        if f.mode =='r':\n",
    "            x=f.read()\n",
    "            li=x.split()\n",
    "    cnt=li.count(word)\n",
    "    return cnt\n",
    "filename=input(\"Enter the file name: \")\n",
    "word=input(\"Enter the word\")\n",
    "wordcount(filename,word)"
   ]
  },
  {
   "cell_type": "code",
   "execution_count": 4,
   "metadata": {},
   "outputs": [
    {
     "name": "stdout",
     "output_type": "stream",
     "text": [
      "enter the filename :file2.txt\n"
     ]
    },
    {
     "data": {
      "text/plain": [
       "264"
      ]
     },
     "execution_count": 4,
     "metadata": {},
     "output_type": "execute_result"
    }
   ],
   "source": [
    "# Character count from the given file\n",
    "def charcount(filename):\n",
    "    with open(filename,'r') as f:\n",
    "        if f.mode == 'r':\n",
    "            x=f.read()\n",
    "            li = list(x) #convert the srting - char\n",
    "    return len(li)\n",
    "filename = input('enter the filename :')\n",
    "charcount(filename)\n"
   ]
  },
  {
   "cell_type": "code",
   "execution_count": 7,
   "metadata": {},
   "outputs": [
    {
     "name": "stdout",
     "output_type": "stream",
     "text": [
      "enter the filename :file1.txt\n"
     ]
    },
    {
     "data": {
      "text/plain": [
       "11"
      ]
     },
     "execution_count": 7,
     "metadata": {},
     "output_type": "execute_result"
    }
   ],
   "source": [
    "#function to find no of lines in input file\n",
    "# input -- filename(file2.txt)\n",
    "# output -- no of lines(12)\n",
    "def countline(filename):\n",
    "    with open(filename,\"r\") as f:\n",
    "        if f.mode==\"r\":\n",
    "            x=f.read()\n",
    "            li= x.split(\"\\n\")\n",
    "    return len(li)\n",
    "filename = input('enter the filename :')\n",
    "countline(filename)\n"
   ]
  },
  {
   "cell_type": "code",
   "execution_count": 1,
   "metadata": {},
   "outputs": [
    {
     "name": "stdout",
     "output_type": "stream",
     "text": [
      "C:\\Users\\ece - 3\\Desktop\n"
     ]
    }
   ],
   "source": [
    "cd .."
   ]
  },
  {
   "cell_type": "code",
   "execution_count": 2,
   "metadata": {},
   "outputs": [
    {
     "name": "stdout",
     "output_type": "stream",
     "text": [
      "[WinError 2] The system cannot find the file specified: 'python'\n",
      "C:\\Users\\ece - 3\\Desktop\n"
     ]
    }
   ],
   "source": [
    "cd python"
   ]
  },
  {
   "cell_type": "code",
   "execution_count": 3,
   "metadata": {},
   "outputs": [
    {
     "name": "stdout",
     "output_type": "stream",
     "text": [
      "C:\\Users\\ece - 3\\Desktop\\vikas python\n"
     ]
    }
   ],
   "source": [
    "cd vikas python"
   ]
  },
  {
   "cell_type": "code",
   "execution_count": 5,
   "metadata": {},
   "outputs": [],
   "source": [
    "import os\n",
    "os.makedirs('.ipynb_checkpoin1ts')"
   ]
  },
  {
   "cell_type": "code",
   "execution_count": 7,
   "metadata": {},
   "outputs": [
    {
     "name": "stdout",
     "output_type": "stream",
     "text": [
      " Volume in drive C has no label.\n",
      " Volume Serial Number is 5AF6-DF1D\n",
      "\n",
      " Directory of C:\\Users\\ece - 3\\Desktop\\vikas python\n",
      "\n",
      "07/11/2019  03:04 PM    <DIR>          .\n",
      "07/11/2019  03:04 PM    <DIR>          ..\n",
      "07/11/2019  03:03 PM    <DIR>          .ipynb_checkpoin1ts\n",
      "07/11/2019  09:28 AM    <DIR>          .ipynb_checkpoints\n",
      "07/10/2019  03:25 PM             8,071 assignment.ipynb\n",
      "07/05/2019  03:51 PM             8,094 day1.ipynb\n",
      "07/06/2019  11:00 AM             6,490 day2.ipynb\n",
      "07/08/2019  03:46 PM             6,380 day3.ipynb\n",
      "07/09/2019  04:52 PM             9,004 day4.ipynb\n",
      "07/10/2019  03:43 PM            11,763 day5.ipynb\n",
      "07/11/2019  03:04 PM             8,491 day6.ipynb\n",
      "07/11/2019  09:35 AM               160 File1.txt\n",
      "07/11/2019  10:09 AM               280 file2.txt\n",
      "               9 File(s)         58,733 bytes\n",
      "               4 Dir(s)  71,055,339,520 bytes free\n"
     ]
    }
   ],
   "source": [
    "ls"
   ]
  },
  {
   "cell_type": "code",
   "execution_count": null,
   "metadata": {},
   "outputs": [],
   "source": []
  }
 ],
 "metadata": {
  "kernelspec": {
   "display_name": "Python 3",
   "language": "python",
   "name": "python3"
  },
  "language_info": {
   "codemirror_mode": {
    "name": "ipython",
    "version": 3
   },
   "file_extension": ".py",
   "mimetype": "text/x-python",
   "name": "python",
   "nbconvert_exporter": "python",
   "pygments_lexer": "ipython3",
   "version": "3.7.3"
  }
 },
 "nbformat": 4,
 "nbformat_minor": 2
}
